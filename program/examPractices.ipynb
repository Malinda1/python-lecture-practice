{
 "cells": [
  {
   "cell_type": "code",
   "execution_count": 1,
   "metadata": {},
   "outputs": [
    {
     "name": "stdout",
     "output_type": "stream",
     "text": [
      "Hi \n",
      "Mr.Pasindu Malinda\n"
     ]
    }
   ],
   "source": [
    "# user define function \n",
    "\n",
    "def greet():\n",
    "   print(\"Hi \")\n",
    "   print(\"Mr.Pasindu Malinda\")\n",
    "\n",
    "\n",
    "greet()"
   ]
  },
  {
   "cell_type": "code",
   "execution_count": 2,
   "metadata": {},
   "outputs": [
    {
     "name": "stdout",
     "output_type": "stream",
     "text": [
      "Hi pasindu Malinda\n",
      "Well come to the third year in the university\n"
     ]
    }
   ],
   "source": [
    "def greet2(first_name, last_name):\n",
    "    print(f\"Hi {first_name} {last_name}\")\n",
    "    print(\"Well come to the third year in the university\")\n",
    "    \n",
    "\n",
    "greet2(\"pasindu\", \"Malinda\")"
   ]
  },
  {
   "cell_type": "code",
   "execution_count": 3,
   "metadata": {},
   "outputs": [
    {
     "name": "stdout",
     "output_type": "stream",
     "text": [
      "Hi Pasindu\n"
     ]
    }
   ],
   "source": [
    "def greet3(first_name):\n",
    "    return f\"Hi {first_name}\"\n",
    "\n",
    "\n",
    "message = greet3(\"Pasindu\")\n",
    "print(message)"
   ]
  },
  {
   "cell_type": "code",
   "execution_count": 4,
   "metadata": {},
   "outputs": [
    {
     "name": "stdout",
     "output_type": "stream",
     "text": [
      "100800\n"
     ]
    }
   ],
   "source": [
    "def multifly(*numbers):\n",
    "    \n",
    "    total = 1\n",
    "    \n",
    "    for number in numbers:\n",
    "        total *= number\n",
    "        \n",
    "    return total\n",
    "\n",
    "result = multifly(2, 3, 5, 6, 7, 8, 10)\n",
    "print(result)"
   ]
  },
  {
   "cell_type": "code",
   "execution_count": 6,
   "metadata": {},
   "outputs": [
    {
     "name": "stdout",
     "output_type": "stream",
     "text": [
      "config is:  intel i3 8GB\n",
      "config is:  Rayzon 3  16GB\n"
     ]
    }
   ],
   "source": [
    "class computer:\n",
    "    \n",
    "    def __init__(self, CPU, RAM):\n",
    "        \n",
    "        self.CPU = CPU\n",
    "        self.RAM = RAM\n",
    "        \n",
    "    \n",
    "    def config(self):\n",
    "        print(\"config is: \", self.CPU, self.RAM)\n",
    "        \n",
    "    \n",
    "    \n",
    "user_1 = computer(\"intel i3\", \"8GB\")\n",
    "user_2 = computer(\"Rayzon 3 \", \"16GB\")\n",
    "\n",
    "user_1.config()\n",
    "user_2.config()"
   ]
  },
  {
   "cell_type": "code",
   "execution_count": 9,
   "metadata": {},
   "outputs": [
    {
     "name": "stdout",
     "output_type": "stream",
     "text": [
      "Hey, you can't divide a number by zero \n",
      "None\n"
     ]
    }
   ],
   "source": [
    "# Exception handling \n",
    "def error(num1, num2):\n",
    "    \n",
    "    try:\n",
    "        result = num1 / num2\n",
    "        return result\n",
    "        \n",
    "    except Exception:\n",
    "        print(\"Hey, you can't divide a number by zero \")\n",
    "\n",
    "\n",
    "final_result= error(43, 0)\n",
    "print(final_result)\n",
    "    "
   ]
  },
  {
   "cell_type": "code",
   "execution_count": 5,
   "metadata": {},
   "outputs": [
    {
     "name": "stdout",
     "output_type": "stream",
     "text": [
      "12.0\n",
      "Your are enter value is wrong\n",
      "End of the programm\n"
     ]
    }
   ],
   "source": [
    "num1 = 24\n",
    "num2 = 2\n",
    "\n",
    "try:\n",
    "    \n",
    "    result = num1 / num2\n",
    "    print(result)\n",
    "    \n",
    "    number = int(input(\"Enter the number: \"))\n",
    "    \n",
    "except ZeroDivisionError as e:\n",
    "    print(\"Hey, you can't divide a number by zero\")\n",
    "    \n",
    "except ValueError as e:\n",
    "    print(\"Your are enter value is wrong\")\n",
    "    \n",
    "except Exception as e:\n",
    "    print(\"Something want wrong....\")\n",
    "    \n",
    "\n",
    "finally:\n",
    "    print(\"End of the programm\")"
   ]
  },
  {
   "cell_type": "code",
   "execution_count": 6,
   "metadata": {},
   "outputs": [],
   "source": [
    "# File handling \n",
    "\n",
    "file_01 = open(\"file_01.txt\", \"x\")"
   ]
  },
  {
   "cell_type": "code",
   "execution_count": 12,
   "metadata": {},
   "outputs": [],
   "source": [
    "file = open(\"file_01.txt\", 'w')\n",
    "\n",
    "data = file.write(\"Hey, I'm pasindu malinda. \\nworking as a data scientist.\")"
   ]
  },
  {
   "cell_type": "code",
   "execution_count": 13,
   "metadata": {},
   "outputs": [
    {
     "name": "stdout",
     "output_type": "stream",
     "text": [
      "Hey, I'm pasindu malinda. \n",
      "working as a data scientist.\n"
     ]
    }
   ],
   "source": [
    "file = open(\"file_01.txt\", 'r')\n",
    "\n",
    "data = file.read()\n",
    "\n",
    "print(data)"
   ]
  },
  {
   "cell_type": "code",
   "execution_count": 15,
   "metadata": {},
   "outputs": [
    {
     "name": "stdout",
     "output_type": "stream",
     "text": [
      "0\n",
      "y, I'm pasindu malinda. \n",
      "working as a data scientist.\n",
      "55\n"
     ]
    }
   ],
   "source": [
    "file = open(\"file_01.txt\", \"r+\")\n",
    "\n",
    "print(file.tell())\n",
    "\n",
    "file.write(\"Hi\")\n",
    "\n",
    "print(file.read())\n",
    "\n",
    "print(file.tell())"
   ]
  },
  {
   "cell_type": "code",
   "execution_count": 19,
   "metadata": {},
   "outputs": [
    {
     "name": "stdout",
     "output_type": "stream",
     "text": [
      "0\n",
      "50\n",
      "0\n",
      "Hello guys, How are you and your looking gorgeous. Nice to meet you!\n",
      "68\n"
     ]
    }
   ],
   "source": [
    "file = open(\"file_01.txt\", \"w+\")\n",
    "\n",
    "print(file.tell())\n",
    "\n",
    "file.write(\"Hello guys, How are you and your looking gorgeous.\")\n",
    "\n",
    "print(file.tell())\n",
    "\n",
    "file.write(\" Nice to meet you!\")\n",
    "\n",
    "print(file.seek(0))\n",
    "\n",
    "print(file.read())\n",
    "\n",
    "print(file.tell())"
   ]
  },
  {
   "cell_type": "code",
   "execution_count": 22,
   "metadata": {},
   "outputs": [],
   "source": [
    "from PIL import Image\n",
    "\n",
    "my_image = Image.open(\"image1.png\")\n",
    "my_image.show()"
   ]
  },
  {
   "cell_type": "code",
   "execution_count": 28,
   "metadata": {},
   "outputs": [
    {
     "name": "stdout",
     "output_type": "stream",
     "text": [
      "*****\n",
      "*****\n",
      "*****\n",
      "*****\n",
      "*****\n"
     ]
    }
   ],
   "source": [
    "# Star pattern \n",
    "\n",
    "def pattern(n):\n",
    " \n",
    " try:   \n",
    "    for i in range(n):\n",
    "        for j in range(n):\n",
    "           print(\"*\", end= \"\")\n",
    "        print()\n",
    "        \n",
    " except SyntaxError as e:\n",
    "    print(\"Expected ':' for loop\", e)\n",
    "\n",
    "pattern(5)\n",
    "        "
   ]
  },
  {
   "cell_type": "code",
   "execution_count": 30,
   "metadata": {},
   "outputs": [
    {
     "name": "stdout",
     "output_type": "stream",
     "text": [
      "* \n",
      "* * \n",
      "* * * \n",
      "* * * * \n",
      "* * * * * \n"
     ]
    }
   ],
   "source": [
    "def increase(n):\n",
    "    \n",
    "    for i in range(n):\n",
    "        for j in range(i + 1):\n",
    "            print(\"*\", end= \" \")\n",
    "        print()\n",
    "        \n",
    "increase(5)"
   ]
  },
  {
   "cell_type": "code",
   "execution_count": 33,
   "metadata": {},
   "outputs": [
    {
     "name": "stdout",
     "output_type": "stream",
     "text": [
      "* * * * * \n",
      "* * * * \n",
      "* * * \n",
      "* * \n",
      "* \n"
     ]
    }
   ],
   "source": [
    "def decrease(n):\n",
    "    for i in range(n):\n",
    "        for j in range(i, n):\n",
    "            print(\"*\", end = \" \")\n",
    "        print()\n",
    "\n",
    "decrease(5)"
   ]
  },
  {
   "cell_type": "code",
   "execution_count": 35,
   "metadata": {},
   "outputs": [
    {
     "name": "stdout",
     "output_type": "stream",
     "text": [
      "          * \n",
      "        * * \n",
      "      * * * \n",
      "    * * * * \n",
      "  * * * * * \n"
     ]
    }
   ],
   "source": [
    "def triangle(n):\n",
    "    \n",
    "    for i in range(n):\n",
    "        for j in range(i, n):\n",
    "            print(\" \", end = \" \")\n",
    "            \n",
    "        for j in range(i + 1):\n",
    "            print(\"*\", end = \" \")\n",
    "        \n",
    "        print()\n",
    "        \n",
    "triangle(5)"
   ]
  },
  {
   "cell_type": "code",
   "execution_count": 38,
   "metadata": {},
   "outputs": [
    {
     "name": "stdout",
     "output_type": "stream",
     "text": [
      "  * * * * * \n",
      "    * * * * \n",
      "      * * * \n",
      "        * * \n",
      "          * \n"
     ]
    }
   ],
   "source": [
    "def triangle2(n):\n",
    "    \n",
    "    for i in range(n):\n",
    "        for j in range(i + 1):\n",
    "            print(\" \", end = \" \")\n",
    "            \n",
    "        for j in range(i, n):\n",
    "            print(\"*\", end = \" \")\n",
    "        \n",
    "        print()\n",
    "\n",
    "triangle2(5)"
   ]
  },
  {
   "cell_type": "code",
   "execution_count": 40,
   "metadata": {},
   "outputs": [
    {
     "name": "stdout",
     "output_type": "stream",
     "text": [
      "          * \n",
      "        * * * \n",
      "      * * * * * \n",
      "    * * * * * * * \n",
      "  * * * * * * * * * \n"
     ]
    }
   ],
   "source": [
    "def hill_pattern(n):\n",
    "    \n",
    "    for i in range(n):\n",
    "        for j in range(i, n):\n",
    "            print(\" \" , end= \" \")\n",
    "            \n",
    "        for j in range(i):\n",
    "            print(\"*\", end = \" \")\n",
    "            \n",
    "        for j in range(i + 1):\n",
    "            print(\"*\", end = \" \")\n",
    "            \n",
    "        print()\n",
    "        \n",
    "hill_pattern(5)"
   ]
  },
  {
   "cell_type": "code",
   "execution_count": 30,
   "metadata": {},
   "outputs": [
    {
     "name": "stdout",
     "output_type": "stream",
     "text": [
      "  * * * * * * * * * \n",
      "    * * * * * * * \n",
      "      * * * * * \n",
      "        * * * \n",
      "          * \n"
     ]
    }
   ],
   "source": [
    "def hill_pattern2(n):\n",
    "    \n",
    "    for i in range(n):\n",
    "        for j in range(i + 1):\n",
    "            print(\" \", end = \" \")\n",
    "        \n",
    "        for j in range(i, n- 1 ):\n",
    "            print(\"*\", end = \" \")\n",
    "            \n",
    "        for j in range(i, n):\n",
    "            print(\"*\", end = \" \")\n",
    "            \n",
    "        print()\n",
    "        \n",
    "hill_pattern2(5)"
   ]
  },
  {
   "cell_type": "code",
   "execution_count": 50,
   "metadata": {},
   "outputs": [
    {
     "name": "stdout",
     "output_type": "stream",
     "text": [
      "          * \n",
      "        * * * \n",
      "      * * * * * \n",
      "    * * * * * * * \n",
      "  * * * * * * * * * \n",
      "    * * * * * * * \n",
      "      * * * * * \n",
      "        * * * \n",
      "          * \n"
     ]
    }
   ],
   "source": [
    "def diomand(n):\n",
    "     for i in range(n - 1):\n",
    "        for j in range(i, n):\n",
    "            print(\" \" , end= \" \")\n",
    "            \n",
    "        for j in range(i):\n",
    "            print(\"*\", end = \" \")\n",
    "            \n",
    "        for j in range(i + 1):\n",
    "            print(\"*\", end = \" \")\n",
    "            \n",
    "        print()\n",
    "        \n",
    "     for i in range(n):\n",
    "           for j in range(i + 1):\n",
    "             print(\" \", end = \" \")\n",
    "        \n",
    "           for j in range(i, n - 1):\n",
    "             print(\"*\", end = \" \")\n",
    "            \n",
    "           for j in range(i, n):\n",
    "             print(\"*\", end = \" \")\n",
    "            \n",
    "           print()\n",
    "        \n",
    "diomand(5)"
   ]
  },
  {
   "cell_type": "code",
   "execution_count": 51,
   "metadata": {},
   "outputs": [
    {
     "name": "stdout",
     "output_type": "stream",
     "text": [
      "1 \n",
      "2 2 \n",
      "3 3 3 \n",
      "4 4 4 4 \n",
      "5 5 5 5 5 \n"
     ]
    }
   ],
   "source": [
    "#number pattern \n",
    "\n",
    "def number(n, p):\n",
    "    \n",
    "    for i in range(n):\n",
    "        for j in range(i + 1):\n",
    "            print(p, end = \" \")\n",
    "        \n",
    "        p+=1\n",
    "        \n",
    "        print()\n",
    "        \n",
    "number(5, 1)\n",
    "    "
   ]
  },
  {
   "cell_type": "code",
   "execution_count": 53,
   "metadata": {},
   "outputs": [
    {
     "name": "stdout",
     "output_type": "stream",
     "text": [
      "5 5 5 5 5 \n",
      "4 4 4 4 \n",
      "3 3 3 \n",
      "2 2 \n",
      "1 \n"
     ]
    }
   ],
   "source": [
    "def number1(n, p):\n",
    "    \n",
    "    for i in range(n):\n",
    "        for j in range(i, n):\n",
    "            print(p, end = \" \")\n",
    "            \n",
    "        p-=1\n",
    "        \n",
    "        print()\n",
    "        \n",
    "number1(5, 5)"
   ]
  },
  {
   "cell_type": "code",
   "execution_count": 19,
   "metadata": {},
   "outputs": [],
   "source": [
    "import pandas as pd"
   ]
  },
  {
   "cell_type": "code",
   "execution_count": 56,
   "metadata": {},
   "outputs": [],
   "source": [
    "data = pd.read_csv(r\"/Users/python project/lecture practices/program/dataset/countries of the world.csv\")"
   ]
  },
  {
   "cell_type": "code",
   "execution_count": 57,
   "metadata": {},
   "outputs": [
    {
     "data": {
      "text/html": [
       "<div>\n",
       "<style scoped>\n",
       "    .dataframe tbody tr th:only-of-type {\n",
       "        vertical-align: middle;\n",
       "    }\n",
       "\n",
       "    .dataframe tbody tr th {\n",
       "        vertical-align: top;\n",
       "    }\n",
       "\n",
       "    .dataframe thead th {\n",
       "        text-align: right;\n",
       "    }\n",
       "</style>\n",
       "<table border=\"1\" class=\"dataframe\">\n",
       "  <thead>\n",
       "    <tr style=\"text-align: right;\">\n",
       "      <th></th>\n",
       "      <th>Country</th>\n",
       "      <th>Region</th>\n",
       "    </tr>\n",
       "  </thead>\n",
       "  <tbody>\n",
       "    <tr>\n",
       "      <th>0</th>\n",
       "      <td>Afghanistan</td>\n",
       "      <td>ASIA (EX. NEAR EAST)</td>\n",
       "    </tr>\n",
       "    <tr>\n",
       "      <th>1</th>\n",
       "      <td>Albania</td>\n",
       "      <td>EASTERN EUROPE</td>\n",
       "    </tr>\n",
       "    <tr>\n",
       "      <th>2</th>\n",
       "      <td>Algeria</td>\n",
       "      <td>NORTHERN AFRICA</td>\n",
       "    </tr>\n",
       "    <tr>\n",
       "      <th>3</th>\n",
       "      <td>American Samoa</td>\n",
       "      <td>OCEANIA</td>\n",
       "    </tr>\n",
       "    <tr>\n",
       "      <th>4</th>\n",
       "      <td>Andorra</td>\n",
       "      <td>WESTERN EUROPE</td>\n",
       "    </tr>\n",
       "  </tbody>\n",
       "</table>\n",
       "</div>"
      ],
      "text/plain": [
       "           Country                               Region\n",
       "0     Afghanistan         ASIA (EX. NEAR EAST)         \n",
       "1         Albania   EASTERN EUROPE                     \n",
       "2         Algeria   NORTHERN AFRICA                    \n",
       "3  American Samoa   OCEANIA                            \n",
       "4         Andorra   WESTERN EUROPE                     "
      ]
     },
     "execution_count": 57,
     "metadata": {},
     "output_type": "execute_result"
    }
   ],
   "source": [
    "data.head()"
   ]
  },
  {
   "cell_type": "code",
   "execution_count": 58,
   "metadata": {},
   "outputs": [
    {
     "data": {
      "text/html": [
       "<div>\n",
       "<style scoped>\n",
       "    .dataframe tbody tr th:only-of-type {\n",
       "        vertical-align: middle;\n",
       "    }\n",
       "\n",
       "    .dataframe tbody tr th {\n",
       "        vertical-align: top;\n",
       "    }\n",
       "\n",
       "    .dataframe thead th {\n",
       "        text-align: right;\n",
       "    }\n",
       "</style>\n",
       "<table border=\"1\" class=\"dataframe\">\n",
       "  <thead>\n",
       "    <tr style=\"text-align: right;\">\n",
       "      <th></th>\n",
       "      <th>Country</th>\n",
       "      <th>Region</th>\n",
       "    </tr>\n",
       "  </thead>\n",
       "  <tbody>\n",
       "    <tr>\n",
       "      <th>222</th>\n",
       "      <td>West Bank</td>\n",
       "      <td>NEAR EAST</td>\n",
       "    </tr>\n",
       "    <tr>\n",
       "      <th>223</th>\n",
       "      <td>Western Sahara</td>\n",
       "      <td>NORTHERN AFRICA</td>\n",
       "    </tr>\n",
       "    <tr>\n",
       "      <th>224</th>\n",
       "      <td>Yemen</td>\n",
       "      <td>NEAR EAST</td>\n",
       "    </tr>\n",
       "    <tr>\n",
       "      <th>225</th>\n",
       "      <td>Zambia</td>\n",
       "      <td>SUB-SAHARAN AFRICA</td>\n",
       "    </tr>\n",
       "    <tr>\n",
       "      <th>226</th>\n",
       "      <td>Zimbabwe</td>\n",
       "      <td>SUB-SAHARAN AFRICA</td>\n",
       "    </tr>\n",
       "  </tbody>\n",
       "</table>\n",
       "</div>"
      ],
      "text/plain": [
       "             Country                               Region\n",
       "222       West Bank   NEAR EAST                          \n",
       "223  Western Sahara   NORTHERN AFRICA                    \n",
       "224           Yemen   NEAR EAST                          \n",
       "225          Zambia   SUB-SAHARAN AFRICA                 \n",
       "226        Zimbabwe   SUB-SAHARAN AFRICA                 "
      ]
     },
     "execution_count": 58,
     "metadata": {},
     "output_type": "execute_result"
    }
   ],
   "source": [
    "data.tail()"
   ]
  },
  {
   "cell_type": "code",
   "execution_count": 59,
   "metadata": {},
   "outputs": [
    {
     "data": {
      "text/plain": [
       "(227, 2)"
      ]
     },
     "execution_count": 59,
     "metadata": {},
     "output_type": "execute_result"
    }
   ],
   "source": [
    "data.shape"
   ]
  },
  {
   "cell_type": "code",
   "execution_count": 60,
   "metadata": {},
   "outputs": [
    {
     "name": "stdout",
     "output_type": "stream",
     "text": [
      "<class 'pandas.core.frame.DataFrame'>\n",
      "RangeIndex: 227 entries, 0 to 226\n",
      "Data columns (total 2 columns):\n",
      " #   Column   Non-Null Count  Dtype \n",
      "---  ------   --------------  ----- \n",
      " 0   Country  227 non-null    object\n",
      " 1   Region   227 non-null    object\n",
      "dtypes: object(2)\n",
      "memory usage: 3.7+ KB\n"
     ]
    }
   ],
   "source": [
    "data.info()"
   ]
  },
  {
   "cell_type": "code",
   "execution_count": 61,
   "metadata": {},
   "outputs": [],
   "source": [
    "data1 = pd.read_table(r\"/Users/python project/lecture practices/program/dataset/countries of the world.txt\")"
   ]
  },
  {
   "cell_type": "code",
   "execution_count": 62,
   "metadata": {},
   "outputs": [
    {
     "data": {
      "text/html": [
       "<div>\n",
       "<style scoped>\n",
       "    .dataframe tbody tr th:only-of-type {\n",
       "        vertical-align: middle;\n",
       "    }\n",
       "\n",
       "    .dataframe tbody tr th {\n",
       "        vertical-align: top;\n",
       "    }\n",
       "\n",
       "    .dataframe thead th {\n",
       "        text-align: right;\n",
       "    }\n",
       "</style>\n",
       "<table border=\"1\" class=\"dataframe\">\n",
       "  <thead>\n",
       "    <tr style=\"text-align: right;\">\n",
       "      <th></th>\n",
       "      <th>Country</th>\n",
       "      <th>Region</th>\n",
       "    </tr>\n",
       "  </thead>\n",
       "  <tbody>\n",
       "    <tr>\n",
       "      <th>0</th>\n",
       "      <td>Afghanistan</td>\n",
       "      <td>ASIA (EX. NEAR EAST)</td>\n",
       "    </tr>\n",
       "    <tr>\n",
       "      <th>1</th>\n",
       "      <td>Albania</td>\n",
       "      <td>EASTERN EUROPE</td>\n",
       "    </tr>\n",
       "    <tr>\n",
       "      <th>2</th>\n",
       "      <td>Algeria</td>\n",
       "      <td>NORTHERN AFRICA</td>\n",
       "    </tr>\n",
       "    <tr>\n",
       "      <th>3</th>\n",
       "      <td>American Samoa</td>\n",
       "      <td>OCEANIA</td>\n",
       "    </tr>\n",
       "    <tr>\n",
       "      <th>4</th>\n",
       "      <td>Andorra</td>\n",
       "      <td>WESTERN EUROPE</td>\n",
       "    </tr>\n",
       "  </tbody>\n",
       "</table>\n",
       "</div>"
      ],
      "text/plain": [
       "           Country                               Region\n",
       "0     Afghanistan         ASIA (EX. NEAR EAST)         \n",
       "1         Albania   EASTERN EUROPE                     \n",
       "2         Algeria   NORTHERN AFRICA                    \n",
       "3  American Samoa   OCEANIA                            \n",
       "4         Andorra   WESTERN EUROPE                     "
      ]
     },
     "execution_count": 62,
     "metadata": {},
     "output_type": "execute_result"
    }
   ],
   "source": [
    "data1.head()"
   ]
  },
  {
   "cell_type": "code",
   "execution_count": 63,
   "metadata": {},
   "outputs": [
    {
     "name": "stdout",
     "output_type": "stream",
     "text": [
      "                                      Country\\tRegion\n",
      "0         Afghanistan \\tASIA (EX. NEAR EAST)         \n",
      "1       Albania \\tEASTERN EUROPE                     \n",
      "2       Algeria \\tNORTHERN AFRICA                    \n",
      "3   American Samoa \\tOCEANIA                      ...\n",
      "4       Andorra \\tWESTERN EUROPE                     \n",
      "5        Angola \\tSUB-SAHARAN AFRICA                 \n",
      "6                  Anguilla \\tLATIN AMER. & CARIB    \n",
      "7         Antigua & Barbuda \\tLATIN AMER. & CARIB    \n",
      "8                 Argentina \\tLATIN AMER. & CARIB    \n",
      "9                      Armenia \\tC.W. OF IND. STATES \n",
      "10                    Aruba \\tLATIN AMER. & CARIB    \n",
      "11    Australia \\tOCEANIA                            \n",
      "12      Austria \\tWESTERN EUROPE                     \n",
      "13                  Azerbaijan \\tC.W. OF IND. STATES \n",
      "14             Bahamas, The \\tLATIN AMER. & CARIB    \n",
      "15      Bahrain \\tNEAR EAST                          \n",
      "16         Bangladesh \\tASIA (EX. NEAR EAST)         \n",
      "17                 Barbados \\tLATIN AMER. & CARIB    \n",
      "18                     Belarus \\tC.W. OF IND. STATES \n",
      "19      Belgium \\tWESTERN EUROPE                     \n"
     ]
    }
   ],
   "source": [
    "def text(file_path):\n",
    "    df = pd.read_csv(file_path, delimiter= \",\")\n",
    "    return df\n",
    "\n",
    "file_path = r\"/Users/python project/lecture practices/program/dataset/countries of the world.txt\"\n",
    "df = text(file_path)\n",
    "print(df.head(20))"
   ]
  },
  {
   "cell_type": "code",
   "execution_count": 64,
   "metadata": {},
   "outputs": [],
   "source": [
    "table01 = pd.read_csv(r\"/Users/python project/lecture practices/program/dataset/Table01.csv\")\n",
    "table02 = pd.read_csv(r\"/Users/python project/lecture practices/program/dataset/Table02.csv\")"
   ]
  },
  {
   "cell_type": "code",
   "execution_count": 66,
   "metadata": {},
   "outputs": [
    {
     "data": {
      "text/html": [
       "<div>\n",
       "<style scoped>\n",
       "    .dataframe tbody tr th:only-of-type {\n",
       "        vertical-align: middle;\n",
       "    }\n",
       "\n",
       "    .dataframe tbody tr th {\n",
       "        vertical-align: top;\n",
       "    }\n",
       "\n",
       "    .dataframe thead th {\n",
       "        text-align: right;\n",
       "    }\n",
       "</style>\n",
       "<table border=\"1\" class=\"dataframe\">\n",
       "  <thead>\n",
       "    <tr style=\"text-align: right;\">\n",
       "      <th></th>\n",
       "      <th>FellowshipID</th>\n",
       "      <th>FirstName</th>\n",
       "      <th>Skills</th>\n",
       "    </tr>\n",
       "  </thead>\n",
       "  <tbody>\n",
       "    <tr>\n",
       "      <th>0</th>\n",
       "      <td>1001</td>\n",
       "      <td>Frodo</td>\n",
       "      <td>Hiding</td>\n",
       "    </tr>\n",
       "    <tr>\n",
       "      <th>1</th>\n",
       "      <td>1002</td>\n",
       "      <td>Samwise</td>\n",
       "      <td>Gardening</td>\n",
       "    </tr>\n",
       "    <tr>\n",
       "      <th>2</th>\n",
       "      <td>1003</td>\n",
       "      <td>Gandalf</td>\n",
       "      <td>Spells</td>\n",
       "    </tr>\n",
       "    <tr>\n",
       "      <th>3</th>\n",
       "      <td>1004</td>\n",
       "      <td>Pippin</td>\n",
       "      <td>Fireworks</td>\n",
       "    </tr>\n",
       "  </tbody>\n",
       "</table>\n",
       "</div>"
      ],
      "text/plain": [
       "   FellowshipID FirstName     Skills\n",
       "0          1001     Frodo     Hiding\n",
       "1          1002   Samwise  Gardening\n",
       "2          1003   Gandalf     Spells\n",
       "3          1004    Pippin  Fireworks"
      ]
     },
     "execution_count": 66,
     "metadata": {},
     "output_type": "execute_result"
    }
   ],
   "source": [
    "table01"
   ]
  },
  {
   "cell_type": "code",
   "execution_count": 67,
   "metadata": {},
   "outputs": [
    {
     "data": {
      "text/html": [
       "<div>\n",
       "<style scoped>\n",
       "    .dataframe tbody tr th:only-of-type {\n",
       "        vertical-align: middle;\n",
       "    }\n",
       "\n",
       "    .dataframe tbody tr th {\n",
       "        vertical-align: top;\n",
       "    }\n",
       "\n",
       "    .dataframe thead th {\n",
       "        text-align: right;\n",
       "    }\n",
       "</style>\n",
       "<table border=\"1\" class=\"dataframe\">\n",
       "  <thead>\n",
       "    <tr style=\"text-align: right;\">\n",
       "      <th></th>\n",
       "      <th>FellowshipID</th>\n",
       "      <th>FirstName</th>\n",
       "      <th>Age</th>\n",
       "    </tr>\n",
       "  </thead>\n",
       "  <tbody>\n",
       "    <tr>\n",
       "      <th>0</th>\n",
       "      <td>1001</td>\n",
       "      <td>Frodo</td>\n",
       "      <td>50</td>\n",
       "    </tr>\n",
       "    <tr>\n",
       "      <th>1</th>\n",
       "      <td>1002</td>\n",
       "      <td>Samwise</td>\n",
       "      <td>39</td>\n",
       "    </tr>\n",
       "    <tr>\n",
       "      <th>2</th>\n",
       "      <td>1006</td>\n",
       "      <td>Legolas</td>\n",
       "      <td>2931</td>\n",
       "    </tr>\n",
       "    <tr>\n",
       "      <th>3</th>\n",
       "      <td>1007</td>\n",
       "      <td>Elrond</td>\n",
       "      <td>6520</td>\n",
       "    </tr>\n",
       "    <tr>\n",
       "      <th>4</th>\n",
       "      <td>1008</td>\n",
       "      <td>Barromir</td>\n",
       "      <td>51</td>\n",
       "    </tr>\n",
       "  </tbody>\n",
       "</table>\n",
       "</div>"
      ],
      "text/plain": [
       "   FellowshipID FirstName   Age\n",
       "0          1001     Frodo    50\n",
       "1          1002   Samwise    39\n",
       "2          1006   Legolas  2931\n",
       "3          1007    Elrond  6520\n",
       "4          1008  Barromir    51"
      ]
     },
     "execution_count": 67,
     "metadata": {},
     "output_type": "execute_result"
    }
   ],
   "source": [
    "table02"
   ]
  },
  {
   "cell_type": "code",
   "execution_count": 69,
   "metadata": {},
   "outputs": [
    {
     "data": {
      "text/html": [
       "<div>\n",
       "<style scoped>\n",
       "    .dataframe tbody tr th:only-of-type {\n",
       "        vertical-align: middle;\n",
       "    }\n",
       "\n",
       "    .dataframe tbody tr th {\n",
       "        vertical-align: top;\n",
       "    }\n",
       "\n",
       "    .dataframe thead th {\n",
       "        text-align: right;\n",
       "    }\n",
       "</style>\n",
       "<table border=\"1\" class=\"dataframe\">\n",
       "  <thead>\n",
       "    <tr style=\"text-align: right;\">\n",
       "      <th></th>\n",
       "      <th>FellowshipID</th>\n",
       "      <th>FirstName_x</th>\n",
       "      <th>Skills</th>\n",
       "      <th>FirstName_y</th>\n",
       "      <th>Age</th>\n",
       "    </tr>\n",
       "  </thead>\n",
       "  <tbody>\n",
       "    <tr>\n",
       "      <th>0</th>\n",
       "      <td>1001</td>\n",
       "      <td>Frodo</td>\n",
       "      <td>Hiding</td>\n",
       "      <td>Frodo</td>\n",
       "      <td>50</td>\n",
       "    </tr>\n",
       "    <tr>\n",
       "      <th>1</th>\n",
       "      <td>1002</td>\n",
       "      <td>Samwise</td>\n",
       "      <td>Gardening</td>\n",
       "      <td>Samwise</td>\n",
       "      <td>39</td>\n",
       "    </tr>\n",
       "  </tbody>\n",
       "</table>\n",
       "</div>"
      ],
      "text/plain": [
       "   FellowshipID FirstName_x     Skills FirstName_y  Age\n",
       "0          1001       Frodo     Hiding       Frodo   50\n",
       "1          1002     Samwise  Gardening     Samwise   39"
      ]
     },
     "execution_count": 69,
     "metadata": {},
     "output_type": "execute_result"
    }
   ],
   "source": [
    "inner_join = pd.merge(table01, table02, on = \"FellowshipID\", how= \"inner\")\n",
    "\n",
    "inner_join"
   ]
  },
  {
   "cell_type": "code",
   "execution_count": 70,
   "metadata": {},
   "outputs": [
    {
     "data": {
      "text/html": [
       "<div>\n",
       "<style scoped>\n",
       "    .dataframe tbody tr th:only-of-type {\n",
       "        vertical-align: middle;\n",
       "    }\n",
       "\n",
       "    .dataframe tbody tr th {\n",
       "        vertical-align: top;\n",
       "    }\n",
       "\n",
       "    .dataframe thead th {\n",
       "        text-align: right;\n",
       "    }\n",
       "</style>\n",
       "<table border=\"1\" class=\"dataframe\">\n",
       "  <thead>\n",
       "    <tr style=\"text-align: right;\">\n",
       "      <th></th>\n",
       "      <th>FellowshipID</th>\n",
       "      <th>FirstName_x</th>\n",
       "      <th>Skills</th>\n",
       "      <th>FirstName_y</th>\n",
       "      <th>Age</th>\n",
       "    </tr>\n",
       "  </thead>\n",
       "  <tbody>\n",
       "    <tr>\n",
       "      <th>0</th>\n",
       "      <td>1001</td>\n",
       "      <td>Frodo</td>\n",
       "      <td>Hiding</td>\n",
       "      <td>Frodo</td>\n",
       "      <td>50.0</td>\n",
       "    </tr>\n",
       "    <tr>\n",
       "      <th>1</th>\n",
       "      <td>1002</td>\n",
       "      <td>Samwise</td>\n",
       "      <td>Gardening</td>\n",
       "      <td>Samwise</td>\n",
       "      <td>39.0</td>\n",
       "    </tr>\n",
       "    <tr>\n",
       "      <th>2</th>\n",
       "      <td>1003</td>\n",
       "      <td>Gandalf</td>\n",
       "      <td>Spells</td>\n",
       "      <td>NaN</td>\n",
       "      <td>NaN</td>\n",
       "    </tr>\n",
       "    <tr>\n",
       "      <th>3</th>\n",
       "      <td>1004</td>\n",
       "      <td>Pippin</td>\n",
       "      <td>Fireworks</td>\n",
       "      <td>NaN</td>\n",
       "      <td>NaN</td>\n",
       "    </tr>\n",
       "  </tbody>\n",
       "</table>\n",
       "</div>"
      ],
      "text/plain": [
       "   FellowshipID FirstName_x     Skills FirstName_y   Age\n",
       "0          1001       Frodo     Hiding       Frodo  50.0\n",
       "1          1002     Samwise  Gardening     Samwise  39.0\n",
       "2          1003     Gandalf     Spells         NaN   NaN\n",
       "3          1004      Pippin  Fireworks         NaN   NaN"
      ]
     },
     "execution_count": 70,
     "metadata": {},
     "output_type": "execute_result"
    }
   ],
   "source": [
    "outer_join_left = pd.merge(table01, table02, on= 'FellowshipID', how= 'left')\n",
    "\n",
    "outer_join_left"
   ]
  },
  {
   "cell_type": "code",
   "execution_count": 71,
   "metadata": {},
   "outputs": [
    {
     "data": {
      "text/html": [
       "<div>\n",
       "<style scoped>\n",
       "    .dataframe tbody tr th:only-of-type {\n",
       "        vertical-align: middle;\n",
       "    }\n",
       "\n",
       "    .dataframe tbody tr th {\n",
       "        vertical-align: top;\n",
       "    }\n",
       "\n",
       "    .dataframe thead th {\n",
       "        text-align: right;\n",
       "    }\n",
       "</style>\n",
       "<table border=\"1\" class=\"dataframe\">\n",
       "  <thead>\n",
       "    <tr style=\"text-align: right;\">\n",
       "      <th></th>\n",
       "      <th>FellowshipID</th>\n",
       "      <th>FirstName_x</th>\n",
       "      <th>Skills</th>\n",
       "      <th>FirstName_y</th>\n",
       "      <th>Age</th>\n",
       "    </tr>\n",
       "  </thead>\n",
       "  <tbody>\n",
       "    <tr>\n",
       "      <th>0</th>\n",
       "      <td>1001</td>\n",
       "      <td>Frodo</td>\n",
       "      <td>Hiding</td>\n",
       "      <td>Frodo</td>\n",
       "      <td>50</td>\n",
       "    </tr>\n",
       "    <tr>\n",
       "      <th>1</th>\n",
       "      <td>1002</td>\n",
       "      <td>Samwise</td>\n",
       "      <td>Gardening</td>\n",
       "      <td>Samwise</td>\n",
       "      <td>39</td>\n",
       "    </tr>\n",
       "    <tr>\n",
       "      <th>2</th>\n",
       "      <td>1006</td>\n",
       "      <td>NaN</td>\n",
       "      <td>NaN</td>\n",
       "      <td>Legolas</td>\n",
       "      <td>2931</td>\n",
       "    </tr>\n",
       "    <tr>\n",
       "      <th>3</th>\n",
       "      <td>1007</td>\n",
       "      <td>NaN</td>\n",
       "      <td>NaN</td>\n",
       "      <td>Elrond</td>\n",
       "      <td>6520</td>\n",
       "    </tr>\n",
       "    <tr>\n",
       "      <th>4</th>\n",
       "      <td>1008</td>\n",
       "      <td>NaN</td>\n",
       "      <td>NaN</td>\n",
       "      <td>Barromir</td>\n",
       "      <td>51</td>\n",
       "    </tr>\n",
       "  </tbody>\n",
       "</table>\n",
       "</div>"
      ],
      "text/plain": [
       "   FellowshipID FirstName_x     Skills FirstName_y   Age\n",
       "0          1001       Frodo     Hiding       Frodo    50\n",
       "1          1002     Samwise  Gardening     Samwise    39\n",
       "2          1006         NaN        NaN     Legolas  2931\n",
       "3          1007         NaN        NaN      Elrond  6520\n",
       "4          1008         NaN        NaN    Barromir    51"
      ]
     },
     "execution_count": 71,
     "metadata": {},
     "output_type": "execute_result"
    }
   ],
   "source": [
    "outer_join_right = pd.merge(table01, table02, on = 'FellowshipID', how = 'right')\n",
    "\n",
    "outer_join_right"
   ]
  },
  {
   "cell_type": "code",
   "execution_count": 72,
   "metadata": {},
   "outputs": [],
   "source": [
    "flavor_data = pd.read_csv(r\"/Users/python project/lecture practices/program/dataset/Flavors.csv\")"
   ]
  },
  {
   "cell_type": "code",
   "execution_count": 74,
   "metadata": {},
   "outputs": [
    {
     "data": {
      "text/html": [
       "<div>\n",
       "<style scoped>\n",
       "    .dataframe tbody tr th:only-of-type {\n",
       "        vertical-align: middle;\n",
       "    }\n",
       "\n",
       "    .dataframe tbody tr th {\n",
       "        vertical-align: top;\n",
       "    }\n",
       "\n",
       "    .dataframe thead th {\n",
       "        text-align: right;\n",
       "    }\n",
       "</style>\n",
       "<table border=\"1\" class=\"dataframe\">\n",
       "  <thead>\n",
       "    <tr style=\"text-align: right;\">\n",
       "      <th></th>\n",
       "      <th>Flavor</th>\n",
       "      <th>Base Flavor</th>\n",
       "      <th>Liked</th>\n",
       "      <th>Flavor Rating</th>\n",
       "      <th>Texture Rating</th>\n",
       "      <th>Total Rating</th>\n",
       "    </tr>\n",
       "  </thead>\n",
       "  <tbody>\n",
       "    <tr>\n",
       "      <th>0</th>\n",
       "      <td>Mint Chocolate Chip</td>\n",
       "      <td>Vanilla</td>\n",
       "      <td>Yes</td>\n",
       "      <td>10.0</td>\n",
       "      <td>8.0</td>\n",
       "      <td>18.0</td>\n",
       "    </tr>\n",
       "    <tr>\n",
       "      <th>1</th>\n",
       "      <td>Chocolate</td>\n",
       "      <td>Chocolate</td>\n",
       "      <td>Yes</td>\n",
       "      <td>8.8</td>\n",
       "      <td>7.6</td>\n",
       "      <td>16.6</td>\n",
       "    </tr>\n",
       "    <tr>\n",
       "      <th>2</th>\n",
       "      <td>Vanilla</td>\n",
       "      <td>Vanilla</td>\n",
       "      <td>No</td>\n",
       "      <td>4.7</td>\n",
       "      <td>5.0</td>\n",
       "      <td>9.7</td>\n",
       "    </tr>\n",
       "    <tr>\n",
       "      <th>3</th>\n",
       "      <td>Cookie Dough</td>\n",
       "      <td>Vanilla</td>\n",
       "      <td>Yes</td>\n",
       "      <td>6.9</td>\n",
       "      <td>6.5</td>\n",
       "      <td>13.4</td>\n",
       "    </tr>\n",
       "    <tr>\n",
       "      <th>4</th>\n",
       "      <td>Rocky Road</td>\n",
       "      <td>Chocolate</td>\n",
       "      <td>Yes</td>\n",
       "      <td>8.2</td>\n",
       "      <td>7.0</td>\n",
       "      <td>15.2</td>\n",
       "    </tr>\n",
       "    <tr>\n",
       "      <th>5</th>\n",
       "      <td>Pistachio</td>\n",
       "      <td>Vanilla</td>\n",
       "      <td>No</td>\n",
       "      <td>2.3</td>\n",
       "      <td>3.4</td>\n",
       "      <td>5.7</td>\n",
       "    </tr>\n",
       "    <tr>\n",
       "      <th>6</th>\n",
       "      <td>Cake Batter</td>\n",
       "      <td>Vanilla</td>\n",
       "      <td>Yes</td>\n",
       "      <td>6.5</td>\n",
       "      <td>6.0</td>\n",
       "      <td>12.5</td>\n",
       "    </tr>\n",
       "    <tr>\n",
       "      <th>7</th>\n",
       "      <td>Neapolitan</td>\n",
       "      <td>Vanilla</td>\n",
       "      <td>No</td>\n",
       "      <td>3.8</td>\n",
       "      <td>5.0</td>\n",
       "      <td>8.8</td>\n",
       "    </tr>\n",
       "    <tr>\n",
       "      <th>8</th>\n",
       "      <td>Chocolte Fudge Brownie</td>\n",
       "      <td>Chocolate</td>\n",
       "      <td>Yes</td>\n",
       "      <td>8.2</td>\n",
       "      <td>7.1</td>\n",
       "      <td>15.3</td>\n",
       "    </tr>\n",
       "  </tbody>\n",
       "</table>\n",
       "</div>"
      ],
      "text/plain": [
       "                   Flavor Base Flavor Liked  Flavor Rating  Texture Rating  \\\n",
       "0     Mint Chocolate Chip     Vanilla   Yes           10.0             8.0   \n",
       "1               Chocolate   Chocolate   Yes            8.8             7.6   \n",
       "2                 Vanilla     Vanilla    No            4.7             5.0   \n",
       "3            Cookie Dough     Vanilla   Yes            6.9             6.5   \n",
       "4              Rocky Road   Chocolate   Yes            8.2             7.0   \n",
       "5               Pistachio     Vanilla    No            2.3             3.4   \n",
       "6             Cake Batter     Vanilla   Yes            6.5             6.0   \n",
       "7              Neapolitan     Vanilla    No            3.8             5.0   \n",
       "8  Chocolte Fudge Brownie   Chocolate   Yes            8.2             7.1   \n",
       "\n",
       "   Total Rating  \n",
       "0          18.0  \n",
       "1          16.6  \n",
       "2           9.7  \n",
       "3          13.4  \n",
       "4          15.2  \n",
       "5           5.7  \n",
       "6          12.5  \n",
       "7           8.8  \n",
       "8          15.3  "
      ]
     },
     "execution_count": 74,
     "metadata": {},
     "output_type": "execute_result"
    }
   ],
   "source": [
    "flavor_data"
   ]
  },
  {
   "cell_type": "code",
   "execution_count": 76,
   "metadata": {},
   "outputs": [],
   "source": [
    "group_by_base_flavor = flavor_data.groupby('Base Flavor').agg(\n",
    "    avg_flavor_rating=('Flavor Rating', 'mean'),\n",
    "    sum_flavor_rating=('Flavor Rating', 'sum'),\n",
    "    flavor_count=('Flavor Rating', 'count'),\n",
    "    max_flavor_rating=('Flavor Rating', 'max'),\n",
    "    min_flavor_rating=('Flavor Rating', 'min'),\n",
    "    avg_texture_rating=('Texture Rating', 'mean'),\n",
    "    sum_texture_rating=('Texture Rating', 'sum'),\n",
    "    texture_count=('Texture Rating', 'count'),\n",
    "    max_texture_rating=('Texture Rating', 'max'),\n",
    "    min_texture_rating=('Texture Rating', 'min'),\n",
    "    sum_total_rating=('Total Rating', 'sum')\n",
    ").reset_index()"
   ]
  },
  {
   "cell_type": "code",
   "execution_count": 77,
   "metadata": {},
   "outputs": [
    {
     "data": {
      "text/html": [
       "<div>\n",
       "<style scoped>\n",
       "    .dataframe tbody tr th:only-of-type {\n",
       "        vertical-align: middle;\n",
       "    }\n",
       "\n",
       "    .dataframe tbody tr th {\n",
       "        vertical-align: top;\n",
       "    }\n",
       "\n",
       "    .dataframe thead th {\n",
       "        text-align: right;\n",
       "    }\n",
       "</style>\n",
       "<table border=\"1\" class=\"dataframe\">\n",
       "  <thead>\n",
       "    <tr style=\"text-align: right;\">\n",
       "      <th></th>\n",
       "      <th>Base Flavor</th>\n",
       "      <th>avg_flavor_rating</th>\n",
       "      <th>sum_flavor_rating</th>\n",
       "      <th>flavor_count</th>\n",
       "      <th>max_flavor_rating</th>\n",
       "      <th>min_flavor_rating</th>\n",
       "      <th>avg_texture_rating</th>\n",
       "      <th>sum_texture_rating</th>\n",
       "      <th>texture_count</th>\n",
       "      <th>max_texture_rating</th>\n",
       "      <th>min_texture_rating</th>\n",
       "      <th>sum_total_rating</th>\n",
       "    </tr>\n",
       "  </thead>\n",
       "  <tbody>\n",
       "    <tr>\n",
       "      <th>0</th>\n",
       "      <td>Chocolate</td>\n",
       "      <td>8.4</td>\n",
       "      <td>25.2</td>\n",
       "      <td>3</td>\n",
       "      <td>8.8</td>\n",
       "      <td>8.2</td>\n",
       "      <td>7.233333</td>\n",
       "      <td>21.7</td>\n",
       "      <td>3</td>\n",
       "      <td>7.6</td>\n",
       "      <td>7.0</td>\n",
       "      <td>47.1</td>\n",
       "    </tr>\n",
       "    <tr>\n",
       "      <th>1</th>\n",
       "      <td>Vanilla</td>\n",
       "      <td>5.7</td>\n",
       "      <td>34.2</td>\n",
       "      <td>6</td>\n",
       "      <td>10.0</td>\n",
       "      <td>2.3</td>\n",
       "      <td>5.650000</td>\n",
       "      <td>33.9</td>\n",
       "      <td>6</td>\n",
       "      <td>8.0</td>\n",
       "      <td>3.4</td>\n",
       "      <td>68.1</td>\n",
       "    </tr>\n",
       "  </tbody>\n",
       "</table>\n",
       "</div>"
      ],
      "text/plain": [
       "  Base Flavor  avg_flavor_rating  sum_flavor_rating  flavor_count  \\\n",
       "0   Chocolate                8.4               25.2             3   \n",
       "1     Vanilla                5.7               34.2             6   \n",
       "\n",
       "   max_flavor_rating  min_flavor_rating  avg_texture_rating  \\\n",
       "0                8.8                8.2            7.233333   \n",
       "1               10.0                2.3            5.650000   \n",
       "\n",
       "   sum_texture_rating  texture_count  max_texture_rating  min_texture_rating  \\\n",
       "0                21.7              3                 7.6                 7.0   \n",
       "1                33.9              6                 8.0                 3.4   \n",
       "\n",
       "   sum_total_rating  \n",
       "0              47.1  \n",
       "1              68.1  "
      ]
     },
     "execution_count": 77,
     "metadata": {},
     "output_type": "execute_result"
    }
   ],
   "source": [
    "group_by_base_flavor"
   ]
  },
  {
   "cell_type": "code",
   "execution_count": 78,
   "metadata": {},
   "outputs": [],
   "source": [
    "# Data cleaning part\n",
    "\n",
    "df1 = pd.read_csv(r\"/Users/python project/lecture practices/program/dataset/Ice Cream Ratings.csv\")"
   ]
  },
  {
   "cell_type": "code",
   "execution_count": 79,
   "metadata": {},
   "outputs": [
    {
     "data": {
      "text/html": [
       "<div>\n",
       "<style scoped>\n",
       "    .dataframe tbody tr th:only-of-type {\n",
       "        vertical-align: middle;\n",
       "    }\n",
       "\n",
       "    .dataframe tbody tr th {\n",
       "        vertical-align: top;\n",
       "    }\n",
       "\n",
       "    .dataframe thead th {\n",
       "        text-align: right;\n",
       "    }\n",
       "</style>\n",
       "<table border=\"1\" class=\"dataframe\">\n",
       "  <thead>\n",
       "    <tr style=\"text-align: right;\">\n",
       "      <th></th>\n",
       "      <th>Date</th>\n",
       "      <th>Flavor Rating</th>\n",
       "      <th>Texture Rating</th>\n",
       "      <th>Overall Rating</th>\n",
       "    </tr>\n",
       "  </thead>\n",
       "  <tbody>\n",
       "    <tr>\n",
       "      <th>0</th>\n",
       "      <td>1/1/2022</td>\n",
       "      <td>0.223090</td>\n",
       "      <td>0.040220</td>\n",
       "      <td>0.600129</td>\n",
       "    </tr>\n",
       "    <tr>\n",
       "      <th>1</th>\n",
       "      <td>1/2/2022</td>\n",
       "      <td>0.635886</td>\n",
       "      <td>0.938476</td>\n",
       "      <td>0.106264</td>\n",
       "    </tr>\n",
       "    <tr>\n",
       "      <th>2</th>\n",
       "      <td>1/3/2022</td>\n",
       "      <td>0.442323</td>\n",
       "      <td>0.044154</td>\n",
       "      <td>0.598112</td>\n",
       "    </tr>\n",
       "    <tr>\n",
       "      <th>3</th>\n",
       "      <td>1/4/2022</td>\n",
       "      <td>0.389128</td>\n",
       "      <td>0.549676</td>\n",
       "      <td>0.489353</td>\n",
       "    </tr>\n",
       "    <tr>\n",
       "      <th>4</th>\n",
       "      <td>1/5/2022</td>\n",
       "      <td>0.386887</td>\n",
       "      <td>0.519439</td>\n",
       "      <td>0.988280</td>\n",
       "    </tr>\n",
       "  </tbody>\n",
       "</table>\n",
       "</div>"
      ],
      "text/plain": [
       "       Date  Flavor Rating  Texture Rating  Overall Rating\n",
       "0  1/1/2022       0.223090        0.040220        0.600129\n",
       "1  1/2/2022       0.635886        0.938476        0.106264\n",
       "2  1/3/2022       0.442323        0.044154        0.598112\n",
       "3  1/4/2022       0.389128        0.549676        0.489353\n",
       "4  1/5/2022       0.386887        0.519439        0.988280"
      ]
     },
     "execution_count": 79,
     "metadata": {},
     "output_type": "execute_result"
    }
   ],
   "source": [
    "df1.head()"
   ]
  },
  {
   "cell_type": "code",
   "execution_count": 80,
   "metadata": {},
   "outputs": [
    {
     "name": "stdout",
     "output_type": "stream",
     "text": [
      "<class 'pandas.core.frame.DataFrame'>\n",
      "RangeIndex: 7 entries, 0 to 6\n",
      "Data columns (total 4 columns):\n",
      " #   Column          Non-Null Count  Dtype  \n",
      "---  ------          --------------  -----  \n",
      " 0   Date            7 non-null      object \n",
      " 1   Flavor Rating   7 non-null      float64\n",
      " 2   Texture Rating  7 non-null      float64\n",
      " 3   Overall Rating  7 non-null      float64\n",
      "dtypes: float64(3), object(1)\n",
      "memory usage: 356.0+ bytes\n"
     ]
    }
   ],
   "source": [
    "df1.info()"
   ]
  },
  {
   "cell_type": "code",
   "execution_count": 81,
   "metadata": {},
   "outputs": [
    {
     "data": {
      "text/html": [
       "<div>\n",
       "<style scoped>\n",
       "    .dataframe tbody tr th:only-of-type {\n",
       "        vertical-align: middle;\n",
       "    }\n",
       "\n",
       "    .dataframe tbody tr th {\n",
       "        vertical-align: top;\n",
       "    }\n",
       "\n",
       "    .dataframe thead th {\n",
       "        text-align: right;\n",
       "    }\n",
       "</style>\n",
       "<table border=\"1\" class=\"dataframe\">\n",
       "  <thead>\n",
       "    <tr style=\"text-align: right;\">\n",
       "      <th></th>\n",
       "      <th>Flavor Rating</th>\n",
       "      <th>Texture Rating</th>\n",
       "      <th>Overall Rating</th>\n",
       "    </tr>\n",
       "  </thead>\n",
       "  <tbody>\n",
       "    <tr>\n",
       "      <th>count</th>\n",
       "      <td>7.000000</td>\n",
       "      <td>7.000000</td>\n",
       "      <td>7.000000</td>\n",
       "    </tr>\n",
       "    <tr>\n",
       "      <th>mean</th>\n",
       "      <td>0.442328</td>\n",
       "      <td>0.372952</td>\n",
       "      <td>0.531445</td>\n",
       "    </tr>\n",
       "    <tr>\n",
       "      <th>std</th>\n",
       "      <td>0.249008</td>\n",
       "      <td>0.322952</td>\n",
       "      <td>0.334906</td>\n",
       "    </tr>\n",
       "    <tr>\n",
       "      <th>min</th>\n",
       "      <td>0.140995</td>\n",
       "      <td>0.040220</td>\n",
       "      <td>0.105147</td>\n",
       "    </tr>\n",
       "    <tr>\n",
       "      <th>25%</th>\n",
       "      <td>0.304989</td>\n",
       "      <td>0.118871</td>\n",
       "      <td>0.297808</td>\n",
       "    </tr>\n",
       "    <tr>\n",
       "      <th>50%</th>\n",
       "      <td>0.389128</td>\n",
       "      <td>0.325110</td>\n",
       "      <td>0.598112</td>\n",
       "    </tr>\n",
       "    <tr>\n",
       "      <th>75%</th>\n",
       "      <td>0.539104</td>\n",
       "      <td>0.534557</td>\n",
       "      <td>0.716478</td>\n",
       "    </tr>\n",
       "    <tr>\n",
       "      <th>max</th>\n",
       "      <td>0.877984</td>\n",
       "      <td>0.938476</td>\n",
       "      <td>0.988280</td>\n",
       "    </tr>\n",
       "  </tbody>\n",
       "</table>\n",
       "</div>"
      ],
      "text/plain": [
       "       Flavor Rating  Texture Rating  Overall Rating\n",
       "count       7.000000        7.000000        7.000000\n",
       "mean        0.442328        0.372952        0.531445\n",
       "std         0.249008        0.322952        0.334906\n",
       "min         0.140995        0.040220        0.105147\n",
       "25%         0.304989        0.118871        0.297808\n",
       "50%         0.389128        0.325110        0.598112\n",
       "75%         0.539104        0.534557        0.716478\n",
       "max         0.877984        0.938476        0.988280"
      ]
     },
     "execution_count": 81,
     "metadata": {},
     "output_type": "execute_result"
    }
   ],
   "source": [
    "df1.describe()"
   ]
  },
  {
   "cell_type": "code",
   "execution_count": 82,
   "metadata": {},
   "outputs": [
    {
     "data": {
      "text/plain": [
       "(7, 4)"
      ]
     },
     "execution_count": 82,
     "metadata": {},
     "output_type": "execute_result"
    }
   ],
   "source": [
    "df1.shape"
   ]
  },
  {
   "cell_type": "code",
   "execution_count": 20,
   "metadata": {},
   "outputs": [],
   "source": [
    "df01 = pd.read_csv(r\"/Users/python project/lecture practices/program/dataset/Ice Cream Ratings.csv\")"
   ]
  },
  {
   "cell_type": "code",
   "execution_count": 93,
   "metadata": {},
   "outputs": [],
   "source": [
    "df01['Date'] = pd.to_datetime(df01['Date'], format= 'mixed', errors= 'coerce')"
   ]
  },
  {
   "cell_type": "code",
   "execution_count": 95,
   "metadata": {},
   "outputs": [
    {
     "data": {
      "text/html": [
       "<div>\n",
       "<style scoped>\n",
       "    .dataframe tbody tr th:only-of-type {\n",
       "        vertical-align: middle;\n",
       "    }\n",
       "\n",
       "    .dataframe tbody tr th {\n",
       "        vertical-align: top;\n",
       "    }\n",
       "\n",
       "    .dataframe thead th {\n",
       "        text-align: right;\n",
       "    }\n",
       "</style>\n",
       "<table border=\"1\" class=\"dataframe\">\n",
       "  <thead>\n",
       "    <tr style=\"text-align: right;\">\n",
       "      <th></th>\n",
       "      <th>Date</th>\n",
       "      <th>Flavor Rating</th>\n",
       "      <th>Texture Rating</th>\n",
       "      <th>Overall Rating</th>\n",
       "    </tr>\n",
       "  </thead>\n",
       "  <tbody>\n",
       "    <tr>\n",
       "      <th>0</th>\n",
       "      <td>2022-01-01</td>\n",
       "      <td>0.223090</td>\n",
       "      <td>0.040220</td>\n",
       "      <td>0.600129</td>\n",
       "    </tr>\n",
       "    <tr>\n",
       "      <th>1</th>\n",
       "      <td>2022-01-02</td>\n",
       "      <td>0.635886</td>\n",
       "      <td>0.938476</td>\n",
       "      <td>0.106264</td>\n",
       "    </tr>\n",
       "    <tr>\n",
       "      <th>2</th>\n",
       "      <td>2022-01-03</td>\n",
       "      <td>0.442323</td>\n",
       "      <td>0.044154</td>\n",
       "      <td>0.598112</td>\n",
       "    </tr>\n",
       "    <tr>\n",
       "      <th>3</th>\n",
       "      <td>2022-01-04</td>\n",
       "      <td>0.389128</td>\n",
       "      <td>0.549676</td>\n",
       "      <td>0.489353</td>\n",
       "    </tr>\n",
       "    <tr>\n",
       "      <th>4</th>\n",
       "      <td>2022-01-05</td>\n",
       "      <td>0.386887</td>\n",
       "      <td>0.519439</td>\n",
       "      <td>0.988280</td>\n",
       "    </tr>\n",
       "    <tr>\n",
       "      <th>5</th>\n",
       "      <td>2022-01-06</td>\n",
       "      <td>0.877984</td>\n",
       "      <td>0.193588</td>\n",
       "      <td>0.832827</td>\n",
       "    </tr>\n",
       "    <tr>\n",
       "      <th>6</th>\n",
       "      <td>2022-01-07</td>\n",
       "      <td>0.140995</td>\n",
       "      <td>0.325110</td>\n",
       "      <td>0.105147</td>\n",
       "    </tr>\n",
       "  </tbody>\n",
       "</table>\n",
       "</div>"
      ],
      "text/plain": [
       "        Date  Flavor Rating  Texture Rating  Overall Rating\n",
       "0 2022-01-01       0.223090        0.040220        0.600129\n",
       "1 2022-01-02       0.635886        0.938476        0.106264\n",
       "2 2022-01-03       0.442323        0.044154        0.598112\n",
       "3 2022-01-04       0.389128        0.549676        0.489353\n",
       "4 2022-01-05       0.386887        0.519439        0.988280\n",
       "5 2022-01-06       0.877984        0.193588        0.832827\n",
       "6 2022-01-07       0.140995        0.325110        0.105147"
      ]
     },
     "execution_count": 95,
     "metadata": {},
     "output_type": "execute_result"
    }
   ],
   "source": [
    "df01"
   ]
  },
  {
   "cell_type": "code",
   "execution_count": 96,
   "metadata": {},
   "outputs": [
    {
     "data": {
      "text/plain": [
       "Date              0\n",
       "Flavor Rating     0\n",
       "Texture Rating    0\n",
       "Overall Rating    0\n",
       "dtype: int64"
      ]
     },
     "execution_count": 96,
     "metadata": {},
     "output_type": "execute_result"
    }
   ],
   "source": [
    "df01.isnull().sum()"
   ]
  },
  {
   "cell_type": "code",
   "execution_count": null,
   "metadata": {},
   "outputs": [],
   "source": [
    "# clean_data = df01.dropna()"
   ]
  },
  {
   "cell_type": "code",
   "execution_count": null,
   "metadata": {},
   "outputs": [],
   "source": [
    "# fill_missing_data = df01.fillna(df01.mean(), inplace= True)"
   ]
  },
  {
   "cell_type": "code",
   "execution_count": 97,
   "metadata": {},
   "outputs": [
    {
     "name": "stdout",
     "output_type": "stream",
     "text": [
      "Empty DataFrame\n",
      "Columns: [Date, Flavor Rating, Texture Rating, Overall Rating]\n",
      "Index: []\n"
     ]
    }
   ],
   "source": [
    "duplicates = df01[df01.duplicated()]\n",
    "print(duplicates)"
   ]
  },
  {
   "cell_type": "code",
   "execution_count": 98,
   "metadata": {},
   "outputs": [],
   "source": [
    "#remove_duplicates = duplicates.drop_duplicates(inplace= True)"
   ]
  },
  {
   "cell_type": "code",
   "execution_count": 99,
   "metadata": {},
   "outputs": [],
   "source": [
    "import matplotlib.pyplot as plt\n"
   ]
  },
  {
   "cell_type": "code",
   "execution_count": 102,
   "metadata": {},
   "outputs": [
    {
     "data": {
      "image/png": "[encoded data removed]",
      "text/plain": [
       "<Figure size 640x480 with 1 Axes>"
      ]
     },
     "metadata": {},
     "output_type": "display_data"
    }
   ],
   "source": [
    "plt.boxplot(df01['Flavor Rating'])\n",
    "plt.title(\"find outlires on flavor rating\")\n",
    "plt.ylabel(\"values\")\n",
    "plt.xlabel(\"flavor Rating\")\n",
    "plt.show()"
   ]
  },
  {
   "cell_type": "code",
   "execution_count": null,
   "metadata": {},
   "outputs": [],
   "source": [
    "# removing outliers \n",
    "\n",
    "import pandas as pd\n",
    "\n",
    "# Sample DataFrame\n",
    "data = {'values': [12, 15, 14, 10, 15, 18, 20, 22, 23, 25, 15, 17, 14, 19, 30, 100]}\n",
    "df = pd.DataFrame(data)\n",
    "\n",
    "# Step 1: Calculate Q1, Q3, and IQR\n",
    "Q1 = df['values'].quantile(0.25)\n",
    "Q3 = df['values'].quantile(0.75)\n",
    "IQR = Q3 - Q1\n",
    "\n",
    "# Step 2: Define outlier boundaries\n",
    "lower_bound = Q1 - 1.5 * IQR\n",
    "upper_bound = Q3 + 1.5 * IQR\n",
    "\n",
    "# Step 3: Filter out the outliers\n",
    "df_no_outliers = df[(df['values'] >= lower_bound) & (df['values'] <= upper_bound)]\n",
    "\n",
    "print(\"Original DataFrame:\")\n",
    "print(df)\n",
    "print(\"\\nDataFrame after removing outliers:\")\n",
    "print(df_no_outliers)"
   ]
  },
  {
   "cell_type": "code",
   "execution_count": 122,
   "metadata": {},
   "outputs": [
    {
     "data": {
      "image/png": "[encoded data removed]",
      "text/plain": [
       "<Figure size 1200x600 with 1 Axes>"
      ]
     },
     "metadata": {},
     "output_type": "display_data"
    }
   ],
   "source": [
    "plt.figure(figsize = (12, 6))\n",
    "\n",
    "plt.plot(df01['Date'], df01['Flavor Rating'], marker = '*', markerfacecolor='black', markeredgecolor='blue', color = 'red', label = 'Flavor Rating' )\n",
    "\n",
    "plt.title(\"flavor rating via Date\")\n",
    "plt.xlabel(\"Date\")\n",
    "plt.ylabel(\"flavor rating\")\n",
    "plt.xticks(rotation = 45)\n",
    "plt.legend()\n",
    "plt.grid()\n",
    "\n",
    "plt.tight_layout()\n",
    "plt.show()"
   ]
  },
  {
   "cell_type": "code",
   "execution_count": 130,
   "metadata": {},
   "outputs": [
    {
     "data": {
      "image/png": "[encoded data removed]",
      "text/plain": [
       "<Figure size 1200x600 with 1 Axes>"
      ]
     },
     "metadata": {},
     "output_type": "display_data"
    }
   ],
   "source": [
    "Date = df01['Date']\n",
    "flavor_rating = df01['Flavor Rating']\n",
    "\n",
    "fig = plt.figure(figsize= (12, 6))\n",
    "plt.bar(Date[0:10], flavor_rating[0:10], color = 'green')\n",
    "plt.tight_layout()\n",
    "plt.grid(True, alpha = 0.3)\n",
    "plt.show()"
   ]
  },
  {
   "cell_type": "code",
   "execution_count": 136,
   "metadata": {},
   "outputs": [
    {
     "data": {
      "image/png": "[encoded data removed]",
      "text/plain": [
       "<Figure size 640x480 with 1 Axes>"
      ]
     },
     "metadata": {},
     "output_type": "display_data"
    }
   ],
   "source": [
    "plt.hist(df01['Flavor Rating'], bins= 30, color= \"skyblue\", edgecolor = \"black\")\n",
    "plt.grid(True, alpha = 0.3)\n",
    "plt.tight_layout()\n",
    "plt.title(\"sample of histogram\")\n",
    "plt.xlabel(\"Flavor Rating\")\n",
    "plt.ylabel(\"Frequancy\")\n",
    "plt.show()"
   ]
  },
  {
   "cell_type": "code",
   "execution_count": 146,
   "metadata": {},
   "outputs": [
    {
     "data": {
      "image/png": "[encoded data removed]",
      "text/plain": [
       "<Figure size 1200x600 with 1 Axes>"
      ]
     },
     "metadata": {},
     "output_type": "display_data"
    }
   ],
   "source": [
    "fig = plt.figure(figsize = (12, 6))\n",
    "plt.pie(df01['Flavor Rating'], labels=df01['Date'])\n",
    "plt.title(\"Flavor rating via date using pie chart\")\n",
    "plt.tight_layout()\n",
    "plt.show()"
   ]
  },
  {
   "cell_type": "code",
   "execution_count": 149,
   "metadata": {},
   "outputs": [],
   "source": [
    "data01 = pd.DataFrame({\n",
    "    'name': ['pasindu', 'malinda', 'malindu', 'premasiri'],\n",
    "    'age': [22, 23, 45, 67]\n",
    "})"
   ]
  },
  {
   "cell_type": "code",
   "execution_count": 150,
   "metadata": {},
   "outputs": [
    {
     "data": {
      "text/html": [
       "<div>\n",
       "<style scoped>\n",
       "    .dataframe tbody tr th:only-of-type {\n",
       "        vertical-align: middle;\n",
       "    }\n",
       "\n",
       "    .dataframe tbody tr th {\n",
       "        vertical-align: top;\n",
       "    }\n",
       "\n",
       "    .dataframe thead th {\n",
       "        text-align: right;\n",
       "    }\n",
       "</style>\n",
       "<table border=\"1\" class=\"dataframe\">\n",
       "  <thead>\n",
       "    <tr style=\"text-align: right;\">\n",
       "      <th></th>\n",
       "      <th>name</th>\n",
       "      <th>age</th>\n",
       "    </tr>\n",
       "  </thead>\n",
       "  <tbody>\n",
       "    <tr>\n",
       "      <th>0</th>\n",
       "      <td>pasindu</td>\n",
       "      <td>22</td>\n",
       "    </tr>\n",
       "    <tr>\n",
       "      <th>1</th>\n",
       "      <td>malinda</td>\n",
       "      <td>23</td>\n",
       "    </tr>\n",
       "    <tr>\n",
       "      <th>2</th>\n",
       "      <td>malindu</td>\n",
       "      <td>45</td>\n",
       "    </tr>\n",
       "    <tr>\n",
       "      <th>3</th>\n",
       "      <td>premasiri</td>\n",
       "      <td>67</td>\n",
       "    </tr>\n",
       "  </tbody>\n",
       "</table>\n",
       "</div>"
      ],
      "text/plain": [
       "        name  age\n",
       "0    pasindu   22\n",
       "1    malinda   23\n",
       "2    malindu   45\n",
       "3  premasiri   67"
      ]
     },
     "execution_count": 150,
     "metadata": {},
     "output_type": "execute_result"
    }
   ],
   "source": [
    "data01"
   ]
  },
  {
   "cell_type": "code",
   "execution_count": 151,
   "metadata": {},
   "outputs": [
    {
     "name": "stdout",
     "output_type": "stream",
     "text": [
      "<class 'pandas.core.frame.DataFrame'>\n",
      "RangeIndex: 7 entries, 0 to 6\n",
      "Data columns (total 4 columns):\n",
      " #   Column          Non-Null Count  Dtype         \n",
      "---  ------          --------------  -----         \n",
      " 0   Date            7 non-null      datetime64[ns]\n",
      " 1   Flavor Rating   7 non-null      float64       \n",
      " 2   Texture Rating  7 non-null      float64       \n",
      " 3   Overall Rating  7 non-null      float64       \n",
      "dtypes: datetime64[ns](1), float64(3)\n",
      "memory usage: 356.0 bytes\n"
     ]
    }
   ],
   "source": [
    "df01.info()"
   ]
  },
  {
   "cell_type": "code",
   "execution_count": 152,
   "metadata": {},
   "outputs": [
    {
     "data": {
      "image/png": "[encoded data removed]",
      "text/plain": [
       "<Figure size 1200x600 with 1 Axes>"
      ]
     },
     "metadata": {},
     "output_type": "display_data"
    }
   ],
   "source": [
    "plt.figure(figsize= (12,6))\n",
    "\n",
    "plt.plot(df01['Date'], df01['Overall Rating'], marker = '*', markeredgecolor = 'black', color = 'red', label = 'Overall rating')\n",
    "\n",
    "plt.title(\"Ovrall rating over Date\")\n",
    "plt.xlabel(\"Date\")\n",
    "plt.ylabel('Over rating')\n",
    "plt.xticks(rotation = 45)\n",
    "plt.legend()\n",
    "plt.grid(True, alpha = 0.3)\n",
    "\n",
    "plt.tight_layout()\n",
    "plt.show()"
   ]
  },
  {
   "cell_type": "code",
   "execution_count": 153,
   "metadata": {},
   "outputs": [
    {
     "data": {
      "image/png": "[encoded data removed]",
      "text/plain": [
       "<Figure size 640x480 with 1 Axes>"
      ]
     },
     "metadata": {},
     "output_type": "display_data"
    }
   ],
   "source": [
    "plt.boxplot(df01['Overall Rating'])\n",
    "plt.title(\"boxplot in Overall Rating\")\n",
    "plt.xlabel('Overall Rating')\n",
    "plt.ylabel('Values')\n",
    "plt.show()"
   ]
  },
  {
   "cell_type": "code",
   "execution_count": 155,
   "metadata": {},
   "outputs": [
    {
     "data": {
      "image/png": "[encoded data removed]",
      "text/plain": [
       "<Figure size 1200x600 with 1 Axes>"
      ]
     },
     "metadata": {},
     "output_type": "display_data"
    }
   ],
   "source": [
    "Date = df01['Date']\n",
    "flavor_rating = df01['Flavor Rating']\n",
    "\n",
    "fig = plt.figure(figsize=(12, 6))\n",
    "plt.bar(Date[0:10,], flavor_rating[0:10])\n",
    "plt.title('bar chart for flavor rating over Date')\n",
    "plt.xlabel('Date')\n",
    "plt.ylabel('Flavor Rating')\n",
    "plt.show()"
   ]
  },
  {
   "cell_type": "code",
   "execution_count": 157,
   "metadata": {},
   "outputs": [
    {
     "data": {
      "image/png": "[encoded data removed]",
      "text/plain": [
       "<Figure size 1200x600 with 1 Axes>"
      ]
     },
     "metadata": {},
     "output_type": "display_data"
    }
   ],
   "source": [
    "fig = plt.figure(figsize = (12, 6))\n",
    "\n",
    "plt.pie(df01['Overall Rating'], labels= df01['Date'])\n",
    "plt.title(\"pie chart for Overall Rating\")\n",
    "plt.show()"
   ]
  },
  {
   "cell_type": "code",
   "execution_count": 4,
   "metadata": {},
   "outputs": [
    {
     "name": "stdout",
     "output_type": "stream",
     "text": [
      "******* Current date *******\n",
      "\n",
      "******* Birth date *******\n",
      "\n",
      "******** AGE Calculator ********\n",
      "Years: 22 Months: 3 Days: 0\n"
     ]
    }
   ],
   "source": [
    "# Define a function to calculate age\n",
    "def calculate_age(today_day, today_month, today_year, birth_day, birth_month, birth_year):\n",
    "    # Calculate the difference in years, months, and days\n",
    "    age_years = today_year - birth_year\n",
    "    age_months = today_month - birth_month\n",
    "    age_days = today_day - birth_day\n",
    "\n",
    "\n",
    "\n",
    "    return age_years, age_months, age_days\n",
    "\n",
    "# Get today's date from the user\n",
    "print(\"******* Current date *******\")\n",
    "today_day = int(input(\"Enter today's day: \"))\n",
    "today_month = int(input(\"Enter today's month: \"))\n",
    "today_year = int(input(\"Enter today's year: \"))\n",
    "\n",
    "# Get the birth date from the user\n",
    "print(\"\\n******* Birth date *******\")\n",
    "birth_day = int(input(\"Enter birth day: \"))\n",
    "birth_month = int(input(\"Enter birth month: \"))\n",
    "birth_year = int(input(\"Enter birth year: \"))\n",
    "\n",
    "# Call the function to calculate age\n",
    "years, months, days = calculate_age(today_day, today_month, today_year, birth_day, birth_month, birth_year)\n",
    "\n",
    "# Display the result\n",
    "print(\"\\n******** AGE Calculator ********\")\n",
    "print(f\"Years: {years} Months: {months} Days: {days}\")"
   ]
  },
  {
   "cell_type": "code",
   "execution_count": 13,
   "metadata": {},
   "outputs": [
    {
     "name": "stdout",
     "output_type": "stream",
     "text": [
      "d your looking gorgeous. Nice to meet you!\n"
     ]
    }
   ],
   "source": [
    "file = open(\"file_01.txt\", \"r+\")\n",
    "\n",
    "content = file.write(\"\\n How can assit you today?\")\n",
    " \n",
    "\n",
    "\n",
    "print(file.read())"
   ]
  },
  {
   "cell_type": "code",
   "execution_count": 16,
   "metadata": {},
   "outputs": [],
   "source": [
    "import matplotlib.pyplot as plt"
   ]
  },
  {
   "cell_type": "code",
   "execution_count": 27,
   "metadata": {},
   "outputs": [
    {
     "data": {
      "image/png": "[encoded data removed]",
      "text/plain": [
       "<Figure size 640x480 with 2 Axes>"
      ]
     },
     "metadata": {},
     "output_type": "display_data"
    }
   ],
   "source": [
    "color= df01['Overall Rating']\n",
    "\n",
    "plt.scatter(df01['Date'], df01['Flavor Rating'], c = color, alpha= 0.3, cmap= 'viridis')\n",
    "plt.colorbar(label = 'color intencity')\n",
    "plt.title(\"simple scatter plot\")\n",
    "plt.xlabel('Date')\n",
    "plt.ylabel('Flavor Rating')\n",
    "plt.show()"
   ]
  },
  {
   "cell_type": "code",
   "execution_count": 28,
   "metadata": {},
   "outputs": [
    {
     "name": "stdout",
     "output_type": "stream",
     "text": [
      "malinda\n",
      "pasindu\n",
      "goes\n"
     ]
    }
   ],
   "source": [
    "def loop(mylist):\n",
    "    \n",
    "    for i in mylist:\n",
    "        \n",
    "        if i == 'stop':\n",
    "            break\n",
    "        else: \n",
    "            print(i)\n",
    "\n",
    "loop(['malinda', 'pasindu', 'goes', 'stop', 'comes', 'went'])"
   ]
  },
  {
   "cell_type": "code",
   "execution_count": 1,
   "metadata": {},
   "outputs": [
    {
     "data": {
      "image/png": "[encoded data removed]",
      "text/plain": [
       "<Figure size 640x480 with 1 Axes>"
      ]
     },
     "metadata": {},
     "output_type": "display_data"
    }
   ],
   "source": [
    "# Python program for DDA line generation \n",
    "\n",
    "from matplotlib import pyplot as plt \n",
    "\n",
    "# DDA Function for line generation \n",
    "\n",
    "\n",
    "def DDA(x0, y0, x1, y1): \n",
    "\n",
    "\t# find absolute differences \n",
    "\tdx = abs(x0 - x1) \n",
    "\tdy = abs(y0 - y1) \n",
    "\n",
    "\t# find maximum difference \n",
    "\tsteps = max(dx, dy) \n",
    "\n",
    "\t# calculate the increment in x and y \n",
    "\txinc = dx/steps \n",
    "\tyinc = dy/steps \n",
    "\n",
    "\t# start with 1st point \n",
    "\tx = float(x0) \n",
    "\ty = float(y0) \n",
    "\n",
    "\t# make a list for coordinates \n",
    "\tx_coorinates = [] \n",
    "\ty_coorinates = [] \n",
    "\n",
    "\tfor i in range(steps): \n",
    "\t\t# append the x,y coordinates in respective list \n",
    "\t\tx_coorinates.append(x) \n",
    "\t\ty_coorinates.append(y) \n",
    "\n",
    "\t\t# increment the values \n",
    "\t\tx = x + xinc \n",
    "\t\ty = y + yinc \n",
    "\n",
    "\t# plot the line with coordinates list \n",
    "\tplt.plot(x_coorinates, y_coorinates, marker=\"o\", \n",
    "\t\t\tmarkersize=1, markerfacecolor=\"green\") \n",
    "\tplt.show() \n",
    "\n",
    "\n",
    "# Driver code \n",
    "if __name__ == \"__main__\": \n",
    "\n",
    "\t# coordinates of 1st point \n",
    "\tx0, y0 = 20, 20\n",
    "\n",
    "\t# coordinates of 2nd point \n",
    "\tx1, y1 = 60, 50\n",
    "\n",
    "\t# Function call \n",
    "\tDDA(x0, y0, x1, y1) \n",
    "\n",
    "\t# This code is contributed by 111arpit1 \n"
   ]
  },
  {
   "cell_type": "code",
   "execution_count": null,
   "metadata": {},
   "outputs": [],
   "source": []
  }
 ],
 "metadata": {
  "kernelspec": {
   "display_name": "Python 3",
   "language": "python",
   "name": "python3"
  },
  "language_info": {
   "codemirror_mode": {
    "name": "ipython",
    "version": 3
   },
   "file_extension": ".py",
   "mimetype": "text/x-python",
   "name": "python",
   "nbconvert_exporter": "python",
   "pygments_lexer": "ipython3",
   "version": "3.12.6"
  }
 },
 "nbformat": 4,
 "nbformat_minor": 2
}
