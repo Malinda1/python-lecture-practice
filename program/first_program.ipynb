{
 "cells": [
  {
   "cell_type": "code",
   "execution_count": 4,
   "metadata": {},
   "outputs": [
    {
     "name": "stdout",
     "output_type": "stream",
     "text": [
      "The final amount of the bill: 4275.0\n"
     ]
    }
   ],
   "source": [
    "class company:\n",
    "   \n",
    "   def __init__(self, bill_amount):\n",
    "      self.bill_amount = bill_amount\n",
    "      \n",
    "   def calc_discount(self):\n",
    "      \n",
    "      if (bill_amount >= 5000):\n",
    "         \n",
    "         discount = bill_amount * 0.10\n",
    "         final_amount = bill_amount - discount\n",
    "         return final_amount\n",
    "         \n",
    "      else:\n",
    "         discount = bill_amount * 0.05\n",
    "         final_amount = bill_amount - discount\n",
    "         return final_amount\n",
    "         \n",
    "bill_amount = float(input(\"Enter your bill amount: \"))\n",
    "\n",
    "\n",
    "C1 = company(bill_amount)\n",
    "\n",
    "print(\"The final amount of the bill: {}\".format(C1.calc_discount()))"
   ]
  },
  {
   "cell_type": "code",
   "execution_count": 6,
   "metadata": {},
   "outputs": [
    {
     "name": "stdout",
     "output_type": "stream",
     "text": [
      "The total number of digits in the number is: 1\n"
     ]
    }
   ],
   "source": [
    "def count_digits(number):\n",
    "    number = abs(number)\n",
    "    \n",
    "    count = 0\n",
    "    \n",
    "    while number > 0:\n",
    "        number = number // 10\n",
    "        count += 1\n",
    "        \n",
    "    \n",
    "    if (count == 0):\n",
    "        count =1\n",
    "        \n",
    "    return count\n",
    "\n",
    "num = int(input(\"Enter a number: \"))\n",
    "\n",
    "digit_count = count_digits(num)\n",
    "\n",
    "print(f\"The total number of digits in the number is: {digit_count}\")"
   ]
  },
  {
   "cell_type": "code",
   "execution_count": 1,
   "metadata": {},
   "outputs": [
    {
     "data": {
      "text/plain": [
       "'A'"
      ]
     },
     "execution_count": 1,
     "metadata": {},
     "output_type": "execute_result"
    }
   ],
   "source": [
    "marks = [50, 'A', 65.9, True]\n",
    "\n",
    "marks[1]"
   ]
  },
  {
   "cell_type": "code",
   "execution_count": 8,
   "metadata": {},
   "outputs": [
    {
     "data": {
      "text/plain": [
       "[50, 'A']"
      ]
     },
     "execution_count": 8,
     "metadata": {},
     "output_type": "execute_result"
    }
   ],
   "source": [
    "marks[0:2]"
   ]
  },
  {
   "cell_type": "code",
   "execution_count": 2,
   "metadata": {},
   "outputs": [
    {
     "name": "stdout",
     "output_type": "stream",
     "text": [
      "58\n"
     ]
    }
   ],
   "source": [
    "marks[2] = 58\n",
    "print(marks[2])"
   ]
  },
  {
   "cell_type": "code",
   "execution_count": 3,
   "metadata": {},
   "outputs": [
    {
     "name": "stdout",
     "output_type": "stream",
     "text": [
      "[50, 'A', 58, True]\n"
     ]
    }
   ],
   "source": [
    "print(marks)"
   ]
  },
  {
   "cell_type": "code",
   "execution_count": 4,
   "metadata": {},
   "outputs": [
    {
     "ename": "TypeError",
     "evalue": "'tuple' object does not support item assignment",
     "output_type": "error",
     "traceback": [
      "\u001b[1;31m---------------------------------------------------------------------------\u001b[0m",
      "\u001b[1;31mTypeError\u001b[0m                                 Traceback (most recent call last)",
      "Cell \u001b[1;32mIn[4], line 3\u001b[0m\n\u001b[0;32m      1\u001b[0m Marks \u001b[38;5;241m=\u001b[39m (\u001b[38;5;241m50\u001b[39m, \u001b[38;5;124m'\u001b[39m\u001b[38;5;124mA\u001b[39m\u001b[38;5;124m'\u001b[39m, \u001b[38;5;241m65.9\u001b[39m, \u001b[38;5;28;01mTrue\u001b[39;00m)\n\u001b[1;32m----> 3\u001b[0m \u001b[43mMarks\u001b[49m\u001b[43m[\u001b[49m\u001b[38;5;241;43m2\u001b[39;49m\u001b[43m]\u001b[49m \u001b[38;5;241m=\u001b[39m \u001b[38;5;241m58\u001b[39m\n\u001b[0;32m      5\u001b[0m \u001b[38;5;28mprint\u001b[39m(Marks)\n",
      "\u001b[1;31mTypeError\u001b[0m: 'tuple' object does not support item assignment"
     ]
    }
   ],
   "source": [
    "# Tuple can't change values.\n",
    "\n",
    "Marks = (50, 'A', 65.9, True)\n",
    "\n",
    "Marks[2] = 58\n",
    "\n",
    "print(Marks)"
   ]
  },
  {
   "cell_type": "code",
   "execution_count": 9,
   "metadata": {},
   "outputs": [],
   "source": [
    "# task\n",
    "\n",
    "value = [\"R\", \"E\", \"F\", \"R\", \"I\", \"G\", \"E\", \"R\", \"A\", \"T\", \"O\", \"R\"]"
   ]
  },
  {
   "cell_type": "code",
   "execution_count": 10,
   "metadata": {},
   "outputs": [
    {
     "name": "stdout",
     "output_type": "stream",
     "text": [
      "R\n"
     ]
    }
   ],
   "source": [
    "print(value[3])"
   ]
  },
  {
   "cell_type": "code",
   "execution_count": 11,
   "metadata": {},
   "outputs": [
    {
     "name": "stdout",
     "output_type": "stream",
     "text": [
      "['E', 'F', 'R', 'I']\n"
     ]
    }
   ],
   "source": [
    "print(value[1:5])"
   ]
  },
  {
   "cell_type": "code",
   "execution_count": 12,
   "metadata": {},
   "outputs": [
    {
     "name": "stdout",
     "output_type": "stream",
     "text": [
      "R\n"
     ]
    }
   ],
   "source": [
    "print(value[-1])"
   ]
  },
  {
   "cell_type": "code",
   "execution_count": 13,
   "metadata": {},
   "outputs": [
    {
     "name": "stdout",
     "output_type": "stream",
     "text": [
      "['R', 'E', 'F', 'R', 'I', 'G']\n"
     ]
    }
   ],
   "source": [
    "print(value[:6])"
   ]
  },
  {
   "cell_type": "code",
   "execution_count": 14,
   "metadata": {},
   "outputs": [
    {
     "name": "stdout",
     "output_type": "stream",
     "text": [
      "['R', 'E', 'F', 'R', 'I', 'G', 'E', 'R', 'A', 'T', 'O', 'R']\n"
     ]
    }
   ],
   "source": [
    "print(value[:])"
   ]
  },
  {
   "cell_type": "code",
   "execution_count": 15,
   "metadata": {},
   "outputs": [
    {
     "name": "stdout",
     "output_type": "stream",
     "text": [
      "['F', 'I', 'E', 'A']\n"
     ]
    }
   ],
   "source": [
    "print(value[2:10:2])"
   ]
  },
  {
   "cell_type": "code",
   "execution_count": 16,
   "metadata": {},
   "outputs": [
    {
     "name": "stdout",
     "output_type": "stream",
     "text": [
      "['R', 'E', 'F', 'R', 'I', 'G', 'E', 'R', 'A', 'T', 'O', 'R']\n"
     ]
    }
   ],
   "source": [
    "print(value[::])"
   ]
  },
  {
   "cell_type": "code",
   "execution_count": 17,
   "metadata": {},
   "outputs": [
    {
     "name": "stdout",
     "output_type": "stream",
     "text": [
      "['R', 'O', 'T', 'A', 'R', 'E', 'G', 'I', 'R', 'F', 'E', 'R']\n"
     ]
    }
   ],
   "source": [
    "print(value[::-1])"
   ]
  },
  {
   "cell_type": "code",
   "execution_count": 18,
   "metadata": {},
   "outputs": [
    {
     "name": "stdout",
     "output_type": "stream",
     "text": [
      "['R', 'F', 'I', 'E', 'A', 'O']\n"
     ]
    }
   ],
   "source": [
    "print(value[::2])"
   ]
  },
  {
   "cell_type": "code",
   "execution_count": 23,
   "metadata": {},
   "outputs": [],
   "source": [
    "value.reverse()"
   ]
  },
  {
   "cell_type": "code",
   "execution_count": 24,
   "metadata": {},
   "outputs": [
    {
     "name": "stdout",
     "output_type": "stream",
     "text": [
      "['R', 'O', 'T', 'A', 'R', 'E', 'G', 'I', 'R', 'F', 'E', 'R']\n"
     ]
    }
   ],
   "source": [
    "print(value)"
   ]
  },
  {
   "cell_type": "code",
   "execution_count": 25,
   "metadata": {},
   "outputs": [],
   "source": [
    "value.append(\"USA\")"
   ]
  },
  {
   "cell_type": "code",
   "execution_count": 26,
   "metadata": {},
   "outputs": [
    {
     "name": "stdout",
     "output_type": "stream",
     "text": [
      "['R', 'O', 'T', 'A', 'R', 'E', 'G', 'I', 'R', 'F', 'E', 'R', 'USA']\n"
     ]
    }
   ],
   "source": [
    "print(value)"
   ]
  },
  {
   "cell_type": "code",
   "execution_count": 34,
   "metadata": {},
   "outputs": [
    {
     "name": "stdout",
     "output_type": "stream",
     "text": [
      "25\n"
     ]
    }
   ],
   "source": [
    "print(len(value))"
   ]
  },
  {
   "cell_type": "code",
   "execution_count": 27,
   "metadata": {},
   "outputs": [],
   "source": [
    "value.extend(\"Sri Lanka\")"
   ]
  },
  {
   "cell_type": "code",
   "execution_count": 28,
   "metadata": {},
   "outputs": [
    {
     "name": "stdout",
     "output_type": "stream",
     "text": [
      "['R', 'O', 'T', 'A', 'R', 'E', 'G', 'I', 'R', 'F', 'E', 'R', 'USA', 'S', 'r', 'i', ' ', 'L', 'a', 'n', 'k', 'a']\n"
     ]
    }
   ],
   "source": [
    "print(value)"
   ]
  },
  {
   "cell_type": "code",
   "execution_count": 35,
   "metadata": {},
   "outputs": [
    {
     "name": "stdout",
     "output_type": "stream",
     "text": [
      "[45, 56, 675, 34, 54]\n"
     ]
    }
   ],
   "source": [
    "marks = [45, 56, 34, 54]\n",
    "marks.insert(2, 675)\n",
    "print(marks)"
   ]
  },
  {
   "cell_type": "code",
   "execution_count": 36,
   "metadata": {},
   "outputs": [],
   "source": [
    "marks = [45, 56, 37, 23, 56]\n",
    "value = [68, 78, 23, 44, 34]\n",
    "\n",
    "concatenation = marks + value"
   ]
  },
  {
   "cell_type": "code",
   "execution_count": 37,
   "metadata": {},
   "outputs": [
    {
     "name": "stdout",
     "output_type": "stream",
     "text": [
      "[45, 56, 37, 23, 56, 68, 78, 23, 44, 34]\n"
     ]
    }
   ],
   "source": [
    "print(concatenation)"
   ]
  },
  {
   "cell_type": "code",
   "execution_count": 38,
   "metadata": {},
   "outputs": [
    {
     "name": "stdout",
     "output_type": "stream",
     "text": [
      "[46, 57, 24, 46, 35]\n"
     ]
    }
   ],
   "source": [
    "# list comprehension method\n",
    "\n",
    "marks = [45, 56, 23, 45, 34]\n",
    "\n",
    "new_marks = [x+1 for x in marks]\n",
    "\n",
    "print(new_marks)"
   ]
  },
  {
   "cell_type": "code",
   "execution_count": 40,
   "metadata": {},
   "outputs": [
    {
     "name": "stdout",
     "output_type": "stream",
     "text": [
      "[23, 34, 43, 45, 55, 345]\n"
     ]
    }
   ],
   "source": [
    "Marks2 = [45, 34, 23, 43, 55, 345]\n",
    "\n",
    "Marks2.sort()\n",
    "\n",
    "print(Marks2)"
   ]
  },
  {
   "cell_type": "code",
   "execution_count": 41,
   "metadata": {},
   "outputs": [],
   "source": [
    "Marks2.sort(reverse= True)"
   ]
  },
  {
   "cell_type": "code",
   "execution_count": 42,
   "metadata": {},
   "outputs": [
    {
     "name": "stdout",
     "output_type": "stream",
     "text": [
      "[345, 55, 45, 43, 34, 23]\n"
     ]
    }
   ],
   "source": [
    "print(Marks2)"
   ]
  },
  {
   "cell_type": "code",
   "execution_count": 43,
   "metadata": {},
   "outputs": [],
   "source": [
    "#deleting element in the list\n",
    "\n",
    "value = [67, 78, 45, 24, 3445]\n",
    "\n",
    "del value[3]"
   ]
  },
  {
   "cell_type": "code",
   "execution_count": 44,
   "metadata": {},
   "outputs": [
    {
     "name": "stdout",
     "output_type": "stream",
     "text": [
      "[67, 78, 45, 3445]\n"
     ]
    }
   ],
   "source": [
    "print(value)"
   ]
  },
  {
   "cell_type": "code",
   "execution_count": 45,
   "metadata": {},
   "outputs": [
    {
     "name": "stdout",
     "output_type": "stream",
     "text": [
      "[78, 45, 3445]\n"
     ]
    }
   ],
   "source": [
    "del value[0:1]\n",
    "print(value)"
   ]
  },
  {
   "cell_type": "code",
   "execution_count": 46,
   "metadata": {},
   "outputs": [
    {
     "name": "stdout",
     "output_type": "stream",
     "text": [
      "[78, 45, 3445]\n"
     ]
    }
   ],
   "source": [
    "# Using remove()\n",
    "\n",
    "value1 = [56, 35, 67, 78, 25]\n",
    "value1.remove(67)\n",
    "\n",
    "print(value)"
   ]
  },
  {
   "cell_type": "code",
   "execution_count": 50,
   "metadata": {},
   "outputs": [
    {
     "name": "stdout",
     "output_type": "stream",
     "text": [
      "[56, 25, 67, 35]\n"
     ]
    }
   ],
   "source": [
    "# Using pop()\n",
    "\n",
    "value2 = [56, 25, 67, 35, 79]\n",
    "\n",
    "value2.pop()\n",
    "print(value2)"
   ]
  },
  {
   "cell_type": "code",
   "execution_count": 51,
   "metadata": {},
   "outputs": [
    {
     "name": "stdout",
     "output_type": "stream",
     "text": [
      "[]\n"
     ]
    }
   ],
   "source": [
    "value3 = [78, 89, 364, 67, 73]\n",
    "\n",
    "value3.clear()\n",
    "\n",
    "print(value3)"
   ]
  },
  {
   "cell_type": "code",
   "execution_count": 53,
   "metadata": {},
   "outputs": [
    {
     "name": "stdout",
     "output_type": "stream",
     "text": [
      "[67, 47, 74, 89]\n"
     ]
    }
   ],
   "source": [
    "# using list comprehension\n",
    "\n",
    "value4 = [67, 47, 90, 74, 89, 90]\n",
    "\n",
    "new_value4 = [x for x in value4 if x!= 90]\n",
    "\n",
    "print(new_value4)"
   ]
  },
  {
   "cell_type": "code",
   "execution_count": 3,
   "metadata": {},
   "outputs": [
    {
     "name": "stdout",
     "output_type": "stream",
     "text": [
      "The largest number is given list:  78\n"
     ]
    }
   ],
   "source": [
    "\n",
    "def find_the_largest_number(numbers):\n",
    "    \n",
    "    if not numbers:\n",
    "        return None\n",
    "    \n",
    "    largest = numbers[0]\n",
    "    \n",
    "    for number in numbers:\n",
    "        if largest < number:\n",
    "            largest = number\n",
    "          \n",
    "    return largest\n",
    "\n",
    "numbers = [45, 34, 23, 67, 45, 78, 65]        \n",
    "print(\"The largest number is given list: \", find_the_largest_number(numbers))        \n",
    "\n",
    " "
   ]
  },
  {
   "cell_type": "code",
   "execution_count": null,
   "metadata": {},
   "outputs": [],
   "source": []
  }
 ],
 "metadata": {
  "kernelspec": {
   "display_name": "Python 3",
   "language": "python",
   "name": "python3"
  },
  "language_info": {
   "codemirror_mode": {
    "name": "ipython",
    "version": 3
   },
   "file_extension": ".py",
   "mimetype": "text/x-python",
   "name": "python",
   "nbconvert_exporter": "python",
   "pygments_lexer": "ipython3",
   "version": "3.12.4"
  }
 },
 "nbformat": 4,
 "nbformat_minor": 2
}
