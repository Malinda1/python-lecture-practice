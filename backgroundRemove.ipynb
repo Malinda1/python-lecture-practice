{
 "cells": [
  {
   "cell_type": "code",
   "execution_count": 3,
   "metadata": {},
   "outputs": [],
   "source": [
    "from rembg import remove \n",
    "from PIL import Image"
   ]
  },
  {
   "cell_type": "code",
   "execution_count": 4,
   "metadata": {},
   "outputs": [
    {
     "name": "stderr",
     "output_type": "stream",
     "text": [
      "Downloading data from 'https://github.com/danielgatis/rembg/releases/download/v0.0.0/u2net.onnx' to file '/Users/pasindumalinda/.u2net/u2net.onnx'.\n",
      "100%|███████████████████████████████████████| 176M/176M [00:00<00:00, 74.5GB/s]\n"
     ]
    }
   ],
   "source": [
    "input_path = '/Users/python project/lecture practices/A439351D-B9C9-4D69-BB53-E17313F08E2A.JPG'\n",
    "output_path = 'output.png'\n",
    "input = Image. open (input_path)\n",
    "output = remove (input)\n",
    "output. save(output_path)"
   ]
  },
  {
   "cell_type": "code",
   "execution_count": null,
   "metadata": {},
   "outputs": [],
   "source": []
  }
 ],
 "metadata": {
  "kernelspec": {
   "display_name": "Python 3",
   "language": "python",
   "name": "python3"
  },
  "language_info": {
   "codemirror_mode": {
    "name": "ipython",
    "version": 3
   },
   "file_extension": ".py",
   "mimetype": "text/x-python",
   "name": "python",
   "nbconvert_exporter": "python",
   "pygments_lexer": "ipython3",
   "version": "3.12.6"
  }
 },
 "nbformat": 4,
 "nbformat_minor": 2
}
